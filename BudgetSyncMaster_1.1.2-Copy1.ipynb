{
 "cells": [
  {
   "cell_type": "code",
   "execution_count": 1,
   "id": "5cee7390-5bf5-4310-b6f1-867d139d6669",
   "metadata": {
    "tags": []
   },
   "outputs": [],
   "source": [
    "###########################################\n",
    "##Notebook Information:\n",
    "#- Script name: BudgetSyncMaster: Streamline budget and actual comparisons from different sources!\n",
    "#- Created: July 6th, 2023\n",
    "#- Version: 1.1.2\n",
    "#- Author: Macarena Aloi\n",
    "###########################################\n",
    "\n",
    "##Installing modules needed to run code##\n",
    "\n",
    "#conda install bokeh\n",
    "import os\n",
    "import pandas as pd\n",
    "import numpy as np\n",
    "#from bokeh.plotting import figure, show\n",
    "\n",
    "##loading data into dataframes and modifying their structure##\n",
    "\n",
    "#read in list of budgeted and actual personelle on the project exported from PowerBI and Adaptive \n",
    "#data need to be cleaned up to have the same structure before proceeding!!\n",
    "budget_df = pd.read_csv('.csv') # replace with ('yourfilehere_budget.cvs')\n",
    "actuals_df = pd.read_csv('.csv') # replace with ('yourfilehere_actuals.cvs')\n",
    "\n",
    "total_df= pd.DataFrame()\n",
    "\n",
    "#this code reads through each df and combines them into the df before the \"=\"\n",
    "total_personelle = pd.concat([total_df, budget_df, actuals_df], ignore_index=True)\n",
    "\n",
    "#merge rows if the values within the cells are repeated under the column \"name\"\n",
    "combined_df = total_personelle.groupby(\"name\").agg(lambda x: ', '.join(x.dropna()))\n",
    "\n",
    "#this function fills in empty cells with \"0%\" while maintaining values that were previously merged\n",
    "def join_non_repeating(x):\n",
    "    non_empty_values = set(x.dropna())\n",
    "    if len(non_empty_values) == 0:\n",
    "        return \"0%\"\n",
    "    else:\n",
    "        return ', '.join(non_empty_values)\n",
    "    \n",
    "# Combine rows and keep non-repeating values per cell, including \"0%\" in empty cells\n",
    "combined_df = total_personelle.groupby(\"name\").agg(join_non_repeating).reset_index()\n",
    "\n",
    "##Importing pandas df to excel file##\n",
    "\n",
    "# Get the file name from the user\n",
    "file_name = input(\"Enter the file name (without extension): \")\n",
    "\n",
    "# Add the \".xlsx\" extension to the file name\n",
    "file_name += \".xlsx\"\n",
    "\n",
    "# Export the DataFrame to Excel\n",
    "combined_df.to_excel(file_name, index=False)\n",
    "\n",
    "print(\"DataFrame exported to\", file_name)\n"
   ]
  }
 ],
 "metadata": {
  "kernelspec": {
   "display_name": "Python 3 (ipykernel)",
   "language": "python",
   "name": "python3"
  },
  "language_info": {
   "codemirror_mode": {
    "name": "ipython",
    "version": 3
   },
   "file_extension": ".py",
   "mimetype": "text/x-python",
   "name": "python",
   "nbconvert_exporter": "python",
   "pygments_lexer": "ipython3",
   "version": "3.10.11"
  }
 },
 "nbformat": 4,
 "nbformat_minor": 5
}
